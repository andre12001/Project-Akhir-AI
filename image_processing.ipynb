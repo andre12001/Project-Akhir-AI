{
 "cells": [
  {
   "cell_type": "code",
   "execution_count": null,
   "metadata": {},
   "outputs": [],
   "source": [
    "import cv2\n",
    "import numpy as np\n",
    "import glob\n",
    "import os\n"
   ]
  },
  {
   "cell_type": "code",
   "execution_count": null,
   "metadata": {},
   "outputs": [],
   "source": [
    "dataset_dirs = ['dataset/duku/', 'dataset/langsat/']\n",
    "ext = 'jpg'"
   ]
  },
  {
   "cell_type": "code",
   "execution_count": null,
   "metadata": {},
   "outputs": [],
   "source": [
    "for dataset_dir in dataset_dirs:\n",
    "    print(f\"\\n Memproses folder: {dataset_dir}\")\n",
    "    files = glob.glob(os.path.join(dataset_dir, f'*.{ext}'))\n",
    "\n",
    "    for i, file in enumerate(files, start=1):\n",
    "        img = cv2.imread(file)\n",
    "        if img is None:\n",
    "            print(f\"Gagal membaca: {file}\")\n",
    "            continue\n",
    "\n",
    "        # Proses: tambah saturasi\n",
    "        imghsv = cv2.cvtColor(img, cv2.COLOR_BGR2HSV).astype('float32')\n",
    "        h, s, v = cv2.split(imghsv)\n",
    "        s *= 1.5\n",
    "        s = np.clip(s, 0, 255)\n",
    "        imghsv = cv2.merge([h, s, v])\n",
    "        saturated = cv2.cvtColor(imghsv.astype('uint8'), cv2.COLOR_HSV2BGR)\n",
    "\n",
    "        # Rotasi 90 derajat searah jarum jam\n",
    "        (h, w) = saturated.shape[:2]\n",
    "        center = (w / 2, h / 2)\n",
    "        M = cv2.getRotationMatrix2D(center, 90, 1.0)\n",
    "        rotated = cv2.warpAffine(saturated, M, (w, h))\n",
    "\n",
    "        # Penentuan nama file sesuai kelas\n",
    "        class_name = os.path.basename(os.path.normpath(dataset_dir))  # 'duku' atau 'langsat'\n",
    "        if class_name == 'duku':\n",
    "            im_name = os.path.join(dataset_dir, f'jduku{i}.jpg')\n",
    "        else:  # langsat\n",
    "            im_name = os.path.join(dataset_dir, f'langsat{i}.jpg')\n",
    "\n",
    "        # Simpan hasil\n",
    "        cv2.imwrite(im_name, rotated)\n",
    "        print(f\"Disimpan: {im_name}\")"
   ]
  }
 ],
 "metadata": {
  "kernelspec": {
   "display_name": "Python 3",
   "language": "python",
   "name": "python3"
  },
  "language_info": {
   "codemirror_mode": {
    "name": "ipython",
    "version": 3
   },
   "file_extension": ".py",
   "mimetype": "text/x-python",
   "name": "python",
   "nbconvert_exporter": "python",
   "pygments_lexer": "ipython3",
   "version": "3.9.6"
  },
  "orig_nbformat": 4
 },
 "nbformat": 4,
 "nbformat_minor": 2
}
